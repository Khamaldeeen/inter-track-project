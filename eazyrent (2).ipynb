{
 "cells": [
  {
   "cell_type": "code",
   "execution_count": 1,
   "metadata": {},
   "outputs": [],
   "source": [
    "# import libraries\n",
    "import requests\n",
    "from bs4 import BeautifulSoup\n",
    "import pandas as pd\n",
    "import matplotlib.pyplot as plt\n",
    "import seaborn as sns\n",
    "from requests import get\n",
    "import numpy as np"
   ]
  },
  {
   "cell_type": "markdown",
   "metadata": {},
   "source": [
    "#### Beautiful Soup will help us read this html. It picks the text from the response and parses the information in a way that makes it easier for us to navigate in its structure and get its contents.\n",
    "#### The requests module allows you to send HTTP requests using Python"
   ]
  },
  {
   "cell_type": "code",
   "execution_count": 2,
   "metadata": {},
   "outputs": [],
   "source": [
    "# Assigning the url(Uniform Resource Locator) of website from which data needs to be scarpped.\n",
    "base_url = 'https://www.propertypro.ng/property-for-rent?search=Lagos&type=&bedroom=&min_price=&max_price='\n",
    "headers = {'User-Agent': 'Mozilla/5.0 (Windows NT 10.0; Win64; x64) AppleWebKit/537.36 (KHTML, like Gecko) Chrome/86.0.4240.198 Safari/537.36'}"
   ]
  },
  {
   "cell_type": "markdown",
   "metadata": {},
   "source": [
    "#### Now, let's test if we can communicate with the website. You can get several codes from this command, but if we get '200' it’s usually a sign that we’re good to go."
   ]
  },
  {
   "cell_type": "code",
   "execution_count": 3,
   "metadata": {},
   "outputs": [
    {
     "data": {
      "text/plain": [
       "200"
      ]
     },
     "execution_count": 3,
     "metadata": {},
     "output_type": "execute_result"
    }
   ],
   "source": [
    "#  Requesting the data  from url.\n",
    "r = requests.get(base_url, headers=headers)\n",
    "r.status_code"
   ]
  },
  {
   "cell_type": "code",
   "execution_count": 4,
   "metadata": {},
   "outputs": [
    {
     "name": "stdout",
     "output_type": "stream",
     "text": [
      " Property & Houses for rent  in Nigeria (27,200 listings) | PropertyPro.ng\n"
     ]
    }
   ],
   "source": [
    "soup = BeautifulSoup(r.text, 'html.parser')\n",
    "print(soup.title.get_text())"
   ]
  },
  {
   "cell_type": "code",
   "execution_count": 5,
   "metadata": {},
   "outputs": [],
   "source": [
    "house_containers = soup.select('div', class_=\"single-room-text\")"
   ]
  },
  {
   "cell_type": "code",
   "execution_count": 6,
   "metadata": {},
   "outputs": [],
   "source": [
    "titles = soup.select('.single-room-text > a > h2')"
   ]
  },
  {
   "cell_type": "code",
   "execution_count": 7,
   "metadata": {},
   "outputs": [
    {
     "data": {
      "text/plain": [
       "22"
      ]
     },
     "execution_count": 7,
     "metadata": {},
     "output_type": "execute_result"
    }
   ],
   "source": [
    "len(titles)"
   ]
  },
  {
   "cell_type": "code",
   "execution_count": 8,
   "metadata": {},
   "outputs": [],
   "source": [
    "# Creating empty lists in-order to append data scrapped from url's.\n",
    "# The number of lists depends on the number of features we are extracting from the url.\n",
    "\n",
    "title=[]\n",
    "location=[]\n",
    "price=[]\n",
    "Amenities=[]"
   ]
  },
  {
   "cell_type": "code",
   "execution_count": 9,
   "metadata": {},
   "outputs": [
    {
     "data": {
      "text/plain": [
       "['COMMERCIAL PROPERTY FOR',\n",
       " '1 BEDROOM MINI',\n",
       " '3 BEDROOM FLAT',\n",
       " '5 BEDROOM DETACHED',\n",
       " '4 BEDROOM HOUSE',\n",
       " '4 BEDROOM TERRACED',\n",
       " '3 BEDROOM FLAT',\n",
       " '3 BEDROOM FLAT',\n",
       " '4 BEDROOM MASSIONETTE',\n",
       " '3 BEDROOM FLAT',\n",
       " '5 BEDROOM DETACHED',\n",
       " '3 BEDROOM FLAT',\n",
       " '4 BEDROOM DETACHED',\n",
       " '4 BEDROOM SEMI',\n",
       " '3 BEDROOM FLAT',\n",
       " '1 BEDROOM MINI',\n",
       " '3 BEDROOM BLOCKS',\n",
       " '3 BEDROOM FLAT',\n",
       " '3 BEDROOM FLAT',\n",
       " 'SELF CONTAIN FLAT',\n",
       " 'SELF CONTAIN FLAT',\n",
       " 'SELF CONTAIN FLAT']"
      ]
     },
     "execution_count": 9,
     "metadata": {},
     "output_type": "execute_result"
    }
   ],
   "source": [
    "titles_list = []\n",
    "for title in titles:\n",
    "    title = title.get_text()\n",
    "    title = title.split()\n",
    "    title = title[0:3]\n",
    "    title = ' '.join(title)\n",
    "    titles_list.append(title)\n",
    "titles_list"
   ]
  },
  {
   "cell_type": "code",
   "execution_count": 10,
   "metadata": {},
   "outputs": [],
   "source": [
    "# find all prices\n",
    "prices = soup.select('.n50 > h3 > span')"
   ]
  },
  {
   "cell_type": "code",
   "execution_count": 11,
   "metadata": {},
   "outputs": [],
   "source": [
    "# fixing all prices\n",
    "prices_list = []\n",
    "for i, price in enumerate(prices):\n",
    "    price = price.get_text()\n",
    "    if len(price)> 2:\n",
    "        price = price.replace(',','')\n",
    "        try :\n",
    "            price = int(price)\n",
    "        except ValueError:\n",
    "            price = str(price)    \n",
    "        prices_list.append(price)"
   ]
  },
  {
   "cell_type": "code",
   "execution_count": 12,
   "metadata": {},
   "outputs": [
    {
     "data": {
      "text/plain": [
       "44"
      ]
     },
     "execution_count": 12,
     "metadata": {},
     "output_type": "execute_result"
    }
   ],
   "source": [
    "len(prices)"
   ]
  },
  {
   "cell_type": "code",
   "execution_count": 13,
   "metadata": {},
   "outputs": [
    {
     "data": {
      "text/plain": [
       "['6500000/year',\n",
       " 800000,\n",
       " 2000000,\n",
       " 5500000,\n",
       " 5000000,\n",
       " 13000000,\n",
       " 12000000,\n",
       " 8000000,\n",
       " 15000000,\n",
       " 6500000,\n",
       " 320000000,\n",
       " 7000000,\n",
       " 4000000,\n",
       " 4000000,\n",
       " 3500000,\n",
       " 700000,\n",
       " 1200000,\n",
       " 1200000,\n",
       " 1500000,\n",
       " 120000,\n",
       " 150000,\n",
       " 120000]"
      ]
     },
     "execution_count": 13,
     "metadata": {},
     "output_type": "execute_result"
    }
   ],
   "source": [
    "prices_list"
   ]
  },
  {
   "cell_type": "code",
   "execution_count": 14,
   "metadata": {},
   "outputs": [],
   "source": [
    "locations = soup.select('.single-room-text > h4')"
   ]
  },
  {
   "cell_type": "code",
   "execution_count": 15,
   "metadata": {},
   "outputs": [
    {
     "data": {
      "text/plain": [
       "22"
      ]
     },
     "execution_count": 15,
     "metadata": {},
     "output_type": "execute_result"
    }
   ],
   "source": [
    "len(locations)"
   ]
  },
  {
   "cell_type": "code",
   "execution_count": 16,
   "metadata": {},
   "outputs": [
    {
     "data": {
      "text/plain": [
       "['2',\n",
       " 'Ikeja',\n",
       " 'Maryland',\n",
       " 'Lekki',\n",
       " 'Lekki',\n",
       " 'Ikoyi',\n",
       " 'Ikoyi',\n",
       " 'Island',\n",
       " 'Ikoyi',\n",
       " 'Ikoyi',\n",
       " 'Lekki',\n",
       " 'Ikoyi',\n",
       " 'Lekki',\n",
       " 'TollgateLekki',\n",
       " 'Lekki',\n",
       " 'Ojodu',\n",
       " 'Isolo',\n",
       " 'Isolo',\n",
       " 'Isolo',\n",
       " 'Isolo',\n",
       " 'Isolo',\n",
       " 'Isolo']"
      ]
     },
     "execution_count": 16,
     "metadata": {},
     "output_type": "execute_result"
    }
   ],
   "source": [
    "# find all locations\n",
    "locations_list = []\n",
    "for i in locations:\n",
    "    loc = i.get_text().split()\n",
    "    loc = loc[-2]\n",
    "    loc = loc.replace(',', '')\n",
    "    locations_list.append(loc)\n",
    "locations_list"
   ]
  },
  {
   "cell_type": "code",
   "execution_count": 18,
   "metadata": {},
   "outputs": [],
   "source": [
    "Amenities = soup.select('.fur-areea > span')"
   ]
  },
  {
   "cell_type": "code",
   "execution_count": 19,
   "metadata": {},
   "outputs": [
    {
     "data": {
      "text/plain": [
       "66"
      ]
     },
     "execution_count": 19,
     "metadata": {},
     "output_type": "execute_result"
    }
   ],
   "source": [
    "len(Amenities)"
   ]
  },
  {
   "cell_type": "code",
   "execution_count": 20,
   "metadata": {},
   "outputs": [
    {
     "data": {
      "text/plain": [
       "[['beds'],\n",
       " ['baths'],\n",
       " ['3', 'Toilets'],\n",
       " ['1', 'beds'],\n",
       " ['1', 'baths'],\n",
       " ['2', 'Toilets'],\n",
       " ['3', 'beds'],\n",
       " ['3', 'baths'],\n",
       " ['4', 'Toilets'],\n",
       " ['5', 'beds'],\n",
       " ['5', 'baths'],\n",
       " ['6', 'Toilets'],\n",
       " ['4', 'beds'],\n",
       " ['4', 'baths'],\n",
       " ['5', 'Toilets'],\n",
       " ['4', 'beds'],\n",
       " ['4', 'baths'],\n",
       " ['5', 'Toilets'],\n",
       " ['3', 'beds'],\n",
       " ['3', 'baths'],\n",
       " ['4', 'Toilets'],\n",
       " ['3', 'beds'],\n",
       " ['3', 'baths'],\n",
       " ['4', 'Toilets'],\n",
       " ['4', 'beds'],\n",
       " ['4', 'baths'],\n",
       " ['5', 'Toilets'],\n",
       " ['3', 'beds'],\n",
       " ['3', 'baths'],\n",
       " ['4', 'Toilets'],\n",
       " ['5', 'beds'],\n",
       " ['6', 'baths'],\n",
       " ['7', 'Toilets'],\n",
       " ['3', 'beds'],\n",
       " ['3', 'baths'],\n",
       " ['3', 'Toilets'],\n",
       " ['4', 'beds'],\n",
       " ['4', 'baths'],\n",
       " ['5', 'Toilets'],\n",
       " ['4', 'beds'],\n",
       " ['4', 'baths'],\n",
       " ['5', 'Toilets'],\n",
       " ['3', 'beds'],\n",
       " ['3', 'baths'],\n",
       " ['4', 'Toilets'],\n",
       " ['1', 'beds'],\n",
       " ['1', 'baths'],\n",
       " ['2', 'Toilets'],\n",
       " ['3', 'beds'],\n",
       " ['3', 'baths'],\n",
       " ['4', 'Toilets'],\n",
       " ['3', 'beds'],\n",
       " ['3', 'baths'],\n",
       " ['4', 'Toilets'],\n",
       " ['3', 'beds'],\n",
       " ['3', 'baths'],\n",
       " ['4', 'Toilets'],\n",
       " ['0', 'beds'],\n",
       " ['0', 'baths'],\n",
       " ['0', 'Toilets'],\n",
       " ['0', 'beds'],\n",
       " ['0', 'baths'],\n",
       " ['0', 'Toilets'],\n",
       " ['0', 'beds'],\n",
       " ['0', 'baths'],\n",
       " ['0', 'Toilets']]"
      ]
     },
     "execution_count": 20,
     "metadata": {},
     "output_type": "execute_result"
    }
   ],
   "source": [
    "Amenities_list = []\n",
    "for i in Amenities:\n",
    "    Amenities_split = i.get_text().split()\n",
    "    Amenities_list.append(Amenities_split)\n",
    "Amenities_list"
   ]
  },
  {
   "cell_type": "code",
   "execution_count": 25,
   "metadata": {},
   "outputs": [],
   "source": [
    "#creating a function to be able to return all list generated\n",
    "\n",
    "def all_data(url):\n",
    "    req = requests.get (base_url, headers=headers)\n",
    "    soup = BeautifulSoup(r.text,'html.parser')\n",
    "    \n",
    "    titles = soup.select('.single-room-text > a > h2')\n",
    "    titles_list = []\n",
    "    for title in titles:\n",
    "        title = title.get_text()\n",
    "    title = title.split()\n",
    "    title = title[0:3]\n",
    "    title = ' '.join(title)\n",
    "    titles_list.append(title)\n",
    "\n",
    "    prices = soup.select('.n50 > h3 > span')\n",
    "    prices_list = []\n",
    "    for i, price in enumerate(prices):\n",
    "        price = price.get_text()\n",
    "    if len(price)> 2:\n",
    "        price = price.replace(',','')\n",
    "        try :\n",
    "            price = int(price)\n",
    "        except ValueError:\n",
    "            price = str(price)    \n",
    "        prices_list.append(price)\n",
    "\n",
    "    locations = soup.select('.single-room-text > h4')\n",
    "    locations_list = []\n",
    "    for i in locations:\n",
    "        loc = i.get_text().split()\n",
    "    loc = loc[-2]\n",
    "    loc = loc.replace(',', '')\n",
    "    locations_list.append(loc)\n",
    "\n",
    "    Amenities = soup.select('.fur-areea > span')\n",
    "    Amenities_list = []\n",
    "    for i in Amenities:\n",
    "        Amenities_split = i.get_text().split()\n",
    "    Amenities_list.append(Amenities_split)\n",
    "    \n",
    "    return(titles_list, prices_list, locations_list, Amenities_list)"
   ]
  }
 ],
 "metadata": {
  "kernelspec": {
   "display_name": "Python 3",
   "language": "python",
   "name": "python3"
  },
  "language_info": {
   "codemirror_mode": {
    "name": "ipython",
    "version": 3
   },
   "file_extension": ".py",
   "mimetype": "text/x-python",
   "name": "python",
   "nbconvert_exporter": "python",
   "pygments_lexer": "ipython3",
   "version": "3.7.6"
  }
 },
 "nbformat": 4,
 "nbformat_minor": 4
}
