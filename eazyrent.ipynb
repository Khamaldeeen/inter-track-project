{
 "cells": [
  {
   "cell_type": "code",
   "execution_count": 1,
   "metadata": {},
   "outputs": [],
   "source": [
    "import requests\n",
    "from bs4 import BeautifulSoup\n",
    "import pandas as pd\n",
    "import matplotlib.pyplot as plt\n",
    "import seaborn as sns\n",
    "from requests import get\n",
    "import numpy as np"
   ]
  },
  {
   "cell_type": "code",
   "execution_count": 2,
   "metadata": {},
   "outputs": [],
   "source": [
    "base_url = 'https://www.propertypro.ng/property-for-rent?search=Lagos&type=&bedroom=&min_price=&max_price='\n",
    "headers = {'User-Agent': 'Mozilla/5.0 (Windows NT 10.0; Win64; x64) AppleWebKit/537.36 (KHTML, like Gecko) Chrome/86.0.4240.198 Safari/537.36'}"
   ]
  },
  {
   "cell_type": "markdown",
   "metadata": {},
   "source": [
    "### Now, let's test if we can communicate with the website. You can get several codes from this command, but if we get '200' it’s usually a sign that we’re good to go."
   ]
  },
  {
   "cell_type": "code",
   "execution_count": 3,
   "metadata": {},
   "outputs": [
    {
     "data": {
      "text/plain": [
       "200"
      ]
     },
     "execution_count": 3,
     "metadata": {},
     "output_type": "execute_result"
    }
   ],
   "source": [
    "r = requests.get(base_url, headers=headers)\n",
    "r.status_code"
   ]
  },
  {
   "cell_type": "code",
   "execution_count": 5,
   "metadata": {},
   "outputs": [
    {
     "name": "stdout",
     "output_type": "stream",
     "text": [
      " Property & Houses for rent  in Nigeria (26,570 listings) | PropertyPro.ng\n"
     ]
    }
   ],
   "source": [
    "soup = BeautifulSoup(r.text, 'html.parser')\n",
    "print(soup.title.get_text())"
   ]
  },
  {
   "cell_type": "code",
   "execution_count": 6,
   "metadata": {},
   "outputs": [],
   "source": [
    "house_containers = soup.find_all('div', class_=\"single-room-text\")"
   ]
  },
  {
   "cell_type": "code",
   "execution_count": 7,
   "metadata": {},
   "outputs": [],
   "source": [
    "titles = soup.select('.single-room-text > a > h2')"
   ]
  },
  {
   "cell_type": "code",
   "execution_count": 8,
   "metadata": {},
   "outputs": [
    {
     "data": {
      "text/plain": [
       "22"
      ]
     },
     "execution_count": 8,
     "metadata": {},
     "output_type": "execute_result"
    }
   ],
   "source": [
    "len(titles)"
   ]
  },
  {
   "cell_type": "code",
   "execution_count": 9,
   "metadata": {},
   "outputs": [
    {
     "data": {
      "text/plain": [
       "['COMMERCIAL PROPERTY FOR',\n",
       " '4 BEDROOM TERRACED',\n",
       " '3 BEDROOM FLAT',\n",
       " '3 BEDROOM FLAT',\n",
       " '3 BEDROOM PENTHOUSE',\n",
       " '3 BEDROOM FLAT',\n",
       " '4 BEDROOM TERRACED',\n",
       " '4 BEDROOM TERRACED',\n",
       " '3 BEDROOM FLAT',\n",
       " '3 BEDROOM FLAT',\n",
       " '4 BEDROOM SEMI',\n",
       " '4 BEDROOM TERRACED',\n",
       " '4 BEDROOM TERRACED',\n",
       " '4 BEDROOM SEMI',\n",
       " '2 BEDROOM FLAT',\n",
       " '3 BEDROOM FLAT',\n",
       " '4 BEDROOM TERRACED',\n",
       " '3 BEDROOM FLAT',\n",
       " '4 BEDROOM TERRACED',\n",
       " '4 BEDROOM SEMI',\n",
       " '3 BEDROOM FLAT',\n",
       " '3 BEDROOM FLAT']"
      ]
     },
     "execution_count": 9,
     "metadata": {},
     "output_type": "execute_result"
    }
   ],
   "source": [
    "titles_list = []\n",
    "for title in titles:\n",
    "    title = title.get_text()\n",
    "    title = title.split()\n",
    "    title = title[0:3]\n",
    "    title = ' '.join(title)\n",
    "    titles_list.append(title)\n",
    "titles_list"
   ]
  }
 ],
 "metadata": {
  "kernelspec": {
   "display_name": "Python 3",
   "language": "python",
   "name": "python3"
  },
  "language_info": {
   "codemirror_mode": {
    "name": "ipython",
    "version": 3
   },
   "file_extension": ".py",
   "mimetype": "text/x-python",
   "name": "python",
   "nbconvert_exporter": "python",
   "pygments_lexer": "ipython3",
   "version": "3.7.6"
  }
 },
 "nbformat": 4,
 "nbformat_minor": 4
}
