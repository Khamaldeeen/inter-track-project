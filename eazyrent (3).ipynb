{
 "cells": [
  {
   "cell_type": "code",
   "execution_count": 1,
   "metadata": {},
   "outputs": [],
   "source": [
    "# import libraries\n",
    "import requests\n",
    "from bs4 import BeautifulSoup\n",
    "import pandas as pd\n",
    "import matplotlib.pyplot as plt\n",
    "import seaborn as sns\n",
    "from requests import get\n",
    "import numpy as np\n",
    "import time\n",
    "from time import sleep"
   ]
  },
  {
   "cell_type": "markdown",
   "metadata": {},
   "source": [
    "#### Beautiful Soup will help us read this html. It picks the text from the response and parses the information in a way that makes it easier for us to navigate in its structure and get its contents.\n",
    "#### The requests module allows you to send HTTP requests using Python"
   ]
  },
  {
   "cell_type": "code",
   "execution_count": 2,
   "metadata": {},
   "outputs": [],
   "source": [
    "# Assigning the url(Uniform Resource Locator) of website from which data needs to be scarpped.\n",
    "base_url = 'https://www.propertypro.ng/property-for-rent/in/lagos'\n",
    "headers = {'User-Agent': 'Mozilla/5.0 (Windows NT 10.0; Win64; x64) AppleWebKit/537.36 (KHTML, like Gecko) Chrome/86.0.4240.198 Safari/537.36'}"
   ]
  },
  {
   "cell_type": "markdown",
   "metadata": {},
   "source": [
    "#### Now, let's test if we can communicate with the website. You can get several codes from this command, but if we get '200' it’s usually a sign that we’re good to go."
   ]
  },
  {
   "cell_type": "code",
   "execution_count": 3,
   "metadata": {},
   "outputs": [
    {
     "data": {
      "text/plain": [
       "200"
      ]
     },
     "execution_count": 3,
     "metadata": {},
     "output_type": "execute_result"
    }
   ],
   "source": [
    "#  Requesting the data  from url.\n",
    "r = requests.get(base_url, headers=headers)\n",
    "r.status_code"
   ]
  },
  {
   "cell_type": "code",
   "execution_count": 4,
   "metadata": {},
   "outputs": [
    {
     "name": "stdout",
     "output_type": "stream",
     "text": [
      " Property & Houses for rent  in Lagos   (26,638 listings) | PropertyPro.ng\n"
     ]
    }
   ],
   "source": [
    "soup = BeautifulSoup(r.text, 'html.parser')\n",
    "print(soup.title.get_text())"
   ]
  },
  {
   "cell_type": "code",
   "execution_count": 5,
   "metadata": {},
   "outputs": [],
   "source": [
    "house_containers = soup.select('div', class_=\"single-room-text\")"
   ]
  },
  {
   "cell_type": "code",
   "execution_count": 6,
   "metadata": {},
   "outputs": [],
   "source": [
    "titles = soup.select('.single-room-text > a > h2')"
   ]
  },
  {
   "cell_type": "code",
   "execution_count": 7,
   "metadata": {},
   "outputs": [
    {
     "data": {
      "text/plain": [
       "22"
      ]
     },
     "execution_count": 7,
     "metadata": {},
     "output_type": "execute_result"
    }
   ],
   "source": [
    "len(titles)"
   ]
  },
  {
   "cell_type": "code",
   "execution_count": 8,
   "metadata": {},
   "outputs": [],
   "source": [
    "# Creating empty lists in-order to append data scrapped from url's.\n",
    "# The number of lists depends on the number of features we are extracting from the url.\n",
    "\n",
    "title=[]\n",
    "location=[]\n",
    "price=[]\n",
    "Amenities=[]\n",
    "toilet=[]\n",
    "bathroom=[]\n",
    "bedroom=[]"
   ]
  },
  {
   "cell_type": "code",
   "execution_count": 9,
   "metadata": {},
   "outputs": [
    {
     "data": {
      "text/plain": [
       "['4 BEDROOM FLAT',\n",
       " '2 BEDROOM FLAT',\n",
       " '3 BEDROOM FLAT',\n",
       " '4 BEDROOM FLAT',\n",
       " '5 BEDROOM HOUSE',\n",
       " '4 BEDROOM TERRACED',\n",
       " 'OFFICE SPACE COMMERCIAL',\n",
       " '4 BEDROOM TERRACED',\n",
       " '4 BEDROOM SEMI',\n",
       " '3 BEDROOM FLAT',\n",
       " '5 BEDROOM DETACHED',\n",
       " '3 BEDROOM TERRACED',\n",
       " '3 BEDROOM FLAT',\n",
       " '2 BEDROOM FLAT',\n",
       " '3 BEDROOM FLAT',\n",
       " 'SEMI DETACHED DUPLEX',\n",
       " '3 BEDROOM FLAT',\n",
       " '3 BEDROOM FLAT',\n",
       " '4 BEDROOM TERRACED',\n",
       " '3 BEDROOM FLAT',\n",
       " '4 BEDROOM FLAT',\n",
       " '2 BEDROOM FLAT']"
      ]
     },
     "execution_count": 9,
     "metadata": {},
     "output_type": "execute_result"
    }
   ],
   "source": [
    "titles_list = []\n",
    "for title in titles:\n",
    "    title = title.get_text()\n",
    "    title = title.split()\n",
    "    title = title[0:3]\n",
    "    title = ' '.join(title)\n",
    "    titles_list.append(title)\n",
    "titles_list"
   ]
  },
  {
   "cell_type": "code",
   "execution_count": 10,
   "metadata": {},
   "outputs": [],
   "source": [
    "# find all prices\n",
    "prices = soup.select('.n50 > h3 > span')"
   ]
  },
  {
   "cell_type": "code",
   "execution_count": 11,
   "metadata": {},
   "outputs": [],
   "source": [
    "# fixing all prices\n",
    "prices_list = []\n",
    "for i, price in enumerate(prices):\n",
    "    price = price.get_text()\n",
    "    if len(price)> 2:\n",
    "        price = price.replace(',','')\n",
    "        try :\n",
    "            price = int(price)\n",
    "        except ValueError:\n",
    "            price = str(price)    \n",
    "        prices_list.append(price)"
   ]
  },
  {
   "cell_type": "code",
   "execution_count": 12,
   "metadata": {},
   "outputs": [
    {
     "data": {
      "text/plain": [
       "44"
      ]
     },
     "execution_count": 12,
     "metadata": {},
     "output_type": "execute_result"
    }
   ],
   "source": [
    "len(prices)"
   ]
  },
  {
   "cell_type": "code",
   "execution_count": 13,
   "metadata": {},
   "outputs": [
    {
     "data": {
      "text/plain": [
       "['14999999/year',\n",
       " 12000000,\n",
       " 16000000,\n",
       " 20000000,\n",
       " 14999999,\n",
       " 10000000,\n",
       " 45000,\n",
       " 4500000,\n",
       " 4500000,\n",
       " 3500000,\n",
       " 110000000,\n",
       " 3700000,\n",
       " 2800000,\n",
       " 13000000,\n",
       " 10000000,\n",
       " 3500000,\n",
       " 9000000,\n",
       " 2500000,\n",
       " 8000000,\n",
       " 21500000,\n",
       " 18000000,\n",
       " 12000000]"
      ]
     },
     "execution_count": 13,
     "metadata": {},
     "output_type": "execute_result"
    }
   ],
   "source": [
    "prices_list"
   ]
  },
  {
   "cell_type": "code",
   "execution_count": 14,
   "metadata": {},
   "outputs": [],
   "source": [
    "locations = soup.select('.single-room-text > h4')"
   ]
  },
  {
   "cell_type": "code",
   "execution_count": 15,
   "metadata": {},
   "outputs": [
    {
     "data": {
      "text/plain": [
       "22"
      ]
     },
     "execution_count": 15,
     "metadata": {},
     "output_type": "execute_result"
    }
   ],
   "source": [
    "len(locations)"
   ]
  },
  {
   "cell_type": "code",
   "execution_count": 16,
   "metadata": {},
   "outputs": [
    {
     "data": {
      "text/plain": [
       "['Ikoyi',\n",
       " 'Ikoyi',\n",
       " 'Ikoyi',\n",
       " 'Ikoyi',\n",
       " 'Ikoyi',\n",
       " 'Island',\n",
       " 'Island',\n",
       " 'Lekki',\n",
       " 'Lekki',\n",
       " 'Lekki',\n",
       " 'Lekki',\n",
       " 'Lekki',\n",
       " 'Lekki',\n",
       " 'Ikoyi',\n",
       " 'Ikoyi',\n",
       " 'Lekki',\n",
       " 'Ikoyi',\n",
       " 'Surulere',\n",
       " 'Ikoyi',\n",
       " 'Island',\n",
       " 'Ikoyi',\n",
       " 'Island']"
      ]
     },
     "execution_count": 16,
     "metadata": {},
     "output_type": "execute_result"
    }
   ],
   "source": [
    "# find all locations\n",
    "locations_list = []\n",
    "for i in locations:\n",
    "    loc = i.get_text().split()\n",
    "    loc = loc[-2]\n",
    "    loc = loc.replace(',', '')\n",
    "    locations_list.append(loc)\n",
    "locations_list"
   ]
  },
  {
   "cell_type": "code",
   "execution_count": 17,
   "metadata": {},
   "outputs": [],
   "source": [
    "Amenities = soup.select('.fur-areea > span')"
   ]
  },
  {
   "cell_type": "code",
   "execution_count": 18,
   "metadata": {},
   "outputs": [
    {
     "data": {
      "text/plain": [
       "66"
      ]
     },
     "execution_count": 18,
     "metadata": {},
     "output_type": "execute_result"
    }
   ],
   "source": [
    "len(Amenities)"
   ]
  },
  {
   "cell_type": "code",
   "execution_count": 19,
   "metadata": {},
   "outputs": [
    {
     "data": {
      "text/plain": [
       "'2 beds'"
      ]
     },
     "execution_count": 19,
     "metadata": {},
     "output_type": "execute_result"
    }
   ],
   "source": [
    "Amenities[3].text"
   ]
  },
  {
   "cell_type": "code",
   "execution_count": 20,
   "metadata": {},
   "outputs": [],
   "source": [
    "# Let's write a function to fix all the amenities into a list\n",
    "\n",
    "toilet_list = []\n",
    "bathroom_list = []\n",
    "bedroom_list = []\n",
    "\n",
    "for i, a in enumerate(Amenities):\n",
    "    if i in range(2,66,3):\n",
    "        a = a.get_text().split()\n",
    "        toilet = a[0]\n",
    "        toilet_list.append(toilet)\n",
    "    elif i in range(1,66,3):\n",
    "        a = a.get_text().split()\n",
    "        bathroom = a[0]\n",
    "        bathroom_list.append(bathroom)\n",
    "    elif i in range (0,66,3):\n",
    "        a = a.get_text().split()\n",
    "        bedroom = a[0]\n",
    "        bedroom_list.append(bedroom)"
   ]
  },
  {
   "cell_type": "code",
   "execution_count": 21,
   "metadata": {},
   "outputs": [
    {
     "data": {
      "text/plain": [
       "['5',\n",
       " '3',\n",
       " '4',\n",
       " '5',\n",
       " '6',\n",
       " '6',\n",
       " 'Toilets',\n",
       " '5',\n",
       " '5',\n",
       " '4',\n",
       " '6',\n",
       " '4',\n",
       " '4',\n",
       " '3',\n",
       " '4',\n",
       " 'Toilets',\n",
       " '4',\n",
       " '4',\n",
       " '5',\n",
       " '4',\n",
       " '5',\n",
       " '3']"
      ]
     },
     "execution_count": 21,
     "metadata": {},
     "output_type": "execute_result"
    }
   ],
   "source": [
    "toilet_list"
   ]
  },
  {
   "cell_type": "code",
   "execution_count": 22,
   "metadata": {},
   "outputs": [
    {
     "data": {
      "text/plain": [
       "22"
      ]
     },
     "execution_count": 22,
     "metadata": {},
     "output_type": "execute_result"
    }
   ],
   "source": [
    "len(toilet_list)"
   ]
  },
  {
   "cell_type": "code",
   "execution_count": 23,
   "metadata": {},
   "outputs": [
    {
     "data": {
      "text/plain": [
       "['4',\n",
       " '2',\n",
       " '3',\n",
       " '4',\n",
       " '5',\n",
       " '5',\n",
       " 'baths',\n",
       " '4',\n",
       " '4',\n",
       " '3',\n",
       " '5',\n",
       " '3',\n",
       " '3',\n",
       " '2',\n",
       " '3',\n",
       " 'baths',\n",
       " '3',\n",
       " '4',\n",
       " '4',\n",
       " '3',\n",
       " '4',\n",
       " '2']"
      ]
     },
     "execution_count": 23,
     "metadata": {},
     "output_type": "execute_result"
    }
   ],
   "source": [
    "bathroom_list"
   ]
  },
  {
   "cell_type": "code",
   "execution_count": 24,
   "metadata": {},
   "outputs": [
    {
     "data": {
      "text/plain": [
       "22"
      ]
     },
     "execution_count": 24,
     "metadata": {},
     "output_type": "execute_result"
    }
   ],
   "source": [
    "len(bathroom_list)"
   ]
  },
  {
   "cell_type": "code",
   "execution_count": 25,
   "metadata": {},
   "outputs": [
    {
     "data": {
      "text/plain": [
       "['4',\n",
       " '2',\n",
       " '3',\n",
       " '4',\n",
       " '5',\n",
       " '4',\n",
       " 'beds',\n",
       " '4',\n",
       " '4',\n",
       " '3',\n",
       " '5',\n",
       " '3',\n",
       " '3',\n",
       " '2',\n",
       " '3',\n",
       " 'beds',\n",
       " '3',\n",
       " '3',\n",
       " '4',\n",
       " '3',\n",
       " '4',\n",
       " '2']"
      ]
     },
     "execution_count": 25,
     "metadata": {},
     "output_type": "execute_result"
    }
   ],
   "source": [
    "bedroom_list"
   ]
  },
  {
   "cell_type": "code",
   "execution_count": 26,
   "metadata": {},
   "outputs": [
    {
     "data": {
      "text/plain": [
       "22"
      ]
     },
     "execution_count": 26,
     "metadata": {},
     "output_type": "execute_result"
    }
   ],
   "source": [
    "len(bedroom_list)"
   ]
  },
  {
   "cell_type": "code",
   "execution_count": 27,
   "metadata": {},
   "outputs": [],
   "source": [
    "#creating a function to be able to return all list generated\n",
    "\n",
    "def scrape_page(url):\n",
    "    req = requests.get (base_url, headers=headers)\n",
    "    soup = BeautifulSoup(r.text,'html.parser')\n",
    "    \n",
    "    titles = soup.select('.single-room-text > a > h2')\n",
    "    titles_list = []\n",
    "    for title in titles:\n",
    "        title = title.get_text()\n",
    "    title = title.split()\n",
    "    title = title[0:3]\n",
    "    title = ' '.join(title)\n",
    "    titles_list.append(title)\n",
    "\n",
    "    prices = soup.select('.n50 > h3 > span')\n",
    "    prices_list = []\n",
    "    for i, price in enumerate(prices):\n",
    "        price = price.get_text()\n",
    "    if len(price)> 2:\n",
    "        price = price.replace(',','')\n",
    "        try :\n",
    "            price = int(price)\n",
    "        except ValueError:\n",
    "            price = str(price)    \n",
    "        prices_list.append(price)\n",
    "\n",
    "    locations = soup.select('.single-room-text > h4')\n",
    "    locations_list = []\n",
    "    for i in locations:\n",
    "        loc = i.get_text().split()\n",
    "    loc = loc[-2]\n",
    "    loc = loc.replace(',', '')\n",
    "    locations_list.append(loc)\n",
    "\n",
    "    Amenities = soup.select('.fur-areea > span')\n",
    "    toilet_list = []\n",
    "    bathroom_list = []\n",
    "    bedroom_list = []\n",
    "\n",
    "    for i, a in enumerate(Amenities):\n",
    "        if i in range(2,66,3):\n",
    "            a = a.get_text().split()\n",
    "            toilet = a[0]\n",
    "            toilet_list.append(toilet)\n",
    "        elif i in range(1,66,3):\n",
    "            a = a.get_text().split()\n",
    "            bathroom = a[0]\n",
    "            bathroom_list.append(bathroom)\n",
    "        elif i in range (0,66,3):\n",
    "            a = a.get_text().split()\n",
    "            bedroom = a[0]\n",
    "            bedroom_list.append(bedroom)\n",
    "    \n",
    "    return(titles_list, prices_list, locations_list, toilet_list, bathroom_list, bedroom_list)"
   ]
  },
  {
   "cell_type": "code",
   "execution_count": 28,
   "metadata": {},
   "outputs": [],
   "source": [
    "base_url = 'https://www.propertypro.ng/property-for-rent/in/lagos?page=1'\n",
    "urls= []\n",
    "for i in range(1,400):\n",
    "    url = base_url + '?page=' + str(i)\n",
    "    urls.append(url)"
   ]
  },
  {
   "cell_type": "code",
   "execution_count": 29,
   "metadata": {},
   "outputs": [
    {
     "data": {
      "text/plain": [
       "'https://www.propertypro.ng/property-for-rent/in/lagos?page=1?page=5'"
      ]
     },
     "execution_count": 29,
     "metadata": {},
     "output_type": "execute_result"
    }
   ],
   "source": [
    "urls[4]"
   ]
  },
  {
   "cell_type": "code",
   "execution_count": 30,
   "metadata": {},
   "outputs": [],
   "source": [
    "master_titles = []\n",
    "master_prices = []\n",
    "master_locations = []\n",
    "master_toilet = []\n",
    "master_bathroom = []\n",
    "master_bedroom = []\n",
    "\n",
    "for url in urls:\n",
    "    titles_list, prices_list, locations_list, toilet_list, bathroom_list, bedroom_list = scrape_page(url)\n",
    "    \n",
    "    master_titles += titles_list\n",
    "    master_prices += prices_list\n",
    "    master_locations += locations_list\n",
    "    master_toilet += toilet_list\n",
    "    master_bathroom += bathroom_list\n",
    "    master_bedroom += bedroom_list"
   ]
  },
  {
   "cell_type": "code",
   "execution_count": 34,
   "metadata": {},
   "outputs": [
    {
     "data": {
      "text/plain": [
       "399"
      ]
     },
     "execution_count": 34,
     "metadata": {},
     "output_type": "execute_result"
    }
   ],
   "source": [
    "len(master_titles)"
   ]
  },
  {
   "cell_type": "code",
   "execution_count": 32,
   "metadata": {},
   "outputs": [
    {
     "data": {
      "text/plain": [
       "399"
      ]
     },
     "execution_count": 32,
     "metadata": {},
     "output_type": "execute_result"
    }
   ],
   "source": [
    "len(master_prices)"
   ]
  },
  {
   "cell_type": "code",
   "execution_count": 49,
   "metadata": {},
   "outputs": [
    {
     "data": {
      "text/plain": [
       "430"
      ]
     },
     "execution_count": 49,
     "metadata": {},
     "output_type": "execute_result"
    }
   ],
   "source": [
    "len(master_locations)"
   ]
  },
  {
   "cell_type": "code",
   "execution_count": 50,
   "metadata": {},
   "outputs": [
    {
     "data": {
      "text/plain": [
       "9460"
      ]
     },
     "execution_count": 50,
     "metadata": {},
     "output_type": "execute_result"
    }
   ],
   "source": [
    "len(master_toilet)"
   ]
  },
  {
   "cell_type": "code",
   "execution_count": 51,
   "metadata": {},
   "outputs": [
    {
     "data": {
      "text/plain": [
       "9460"
      ]
     },
     "execution_count": 51,
     "metadata": {},
     "output_type": "execute_result"
    }
   ],
   "source": [
    "len(master_bathroom)"
   ]
  },
  {
   "cell_type": "code",
   "execution_count": 52,
   "metadata": {},
   "outputs": [
    {
     "data": {
      "text/plain": [
       "9460"
      ]
     },
     "execution_count": 52,
     "metadata": {},
     "output_type": "execute_result"
    }
   ],
   "source": [
    "len(master_bedroom)"
   ]
  },
  {
   "cell_type": "code",
   "execution_count": 21,
   "metadata": {},
   "outputs": [],
   "source": [
    "# Defining a dataframe.\n",
    "eazy_rent = pd.DataFrame()"
   ]
  },
  {
   "cell_type": "code",
   "execution_count": 22,
   "metadata": {},
   "outputs": [],
   "source": [
    "# Returns data in form a dataframe with columns of specified names containing the assigned values from the list.\n",
    "df['title']=title \n",
    "df['location']=loc\n",
    "df['price']=price\n",
    "df['Amenities_list']=Amenities_list"
   ]
  },
  {
   "cell_type": "code",
   "execution_count": 24,
   "metadata": {},
   "outputs": [],
   "source": [
    "property=df.to_csv('eazyrent.csv')"
   ]
  },
  {
   "cell_type": "code",
   "execution_count": 26,
   "metadata": {},
   "outputs": [],
   "source": [
    "# Reading data from CSV file.\n",
    "property1=pd.read_csv('eazyrent.csv')"
   ]
  },
  {
   "cell_type": "code",
   "execution_count": 27,
   "metadata": {},
   "outputs": [
    {
     "data": {
      "text/plain": [
       "(66, 5)"
      ]
     },
     "execution_count": 27,
     "metadata": {},
     "output_type": "execute_result"
    }
   ],
   "source": [
    "property1.shape"
   ]
  }
 ],
 "metadata": {
  "kernelspec": {
   "display_name": "Python 3",
   "language": "python",
   "name": "python3"
  },
  "language_info": {
   "codemirror_mode": {
    "name": "ipython",
    "version": 3
   },
   "file_extension": ".py",
   "mimetype": "text/x-python",
   "name": "python",
   "nbconvert_exporter": "python",
   "pygments_lexer": "ipython3",
   "version": "3.7.6"
  }
 },
 "nbformat": 4,
 "nbformat_minor": 4
}
